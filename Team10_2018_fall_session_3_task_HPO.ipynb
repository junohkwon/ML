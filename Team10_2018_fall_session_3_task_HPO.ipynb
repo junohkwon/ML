{
 "cells": [
  {
   "cell_type": "markdown",
   "metadata": {},
   "source": [
    "# Hyper-parameter Optimization(HPO) Exercise\n"
   ]
  },
  {
   "cell_type": "code",
   "execution_count": 1,
   "metadata": {},
   "outputs": [],
   "source": [
    "%matplotlib inline\n",
    "import pandas as pd\n",
    "import numpy as np\n",
    "import matplotlib.pyplot as plt\n",
    "import seaborn as sns\n",
    "import warnings\n",
    "warnings.simplefilter(\"ignore\")\n",
    "\n",
    "plt.style.use('seaborn-white')"
   ]
  },
  {
   "cell_type": "code",
   "execution_count": 7,
   "metadata": {},
   "outputs": [
    {
     "data": {
      "text/html": [
       "<div>\n",
       "<style scoped>\n",
       "    .dataframe tbody tr th:only-of-type {\n",
       "        vertical-align: middle;\n",
       "    }\n",
       "\n",
       "    .dataframe tbody tr th {\n",
       "        vertical-align: top;\n",
       "    }\n",
       "\n",
       "    .dataframe thead th {\n",
       "        text-align: right;\n",
       "    }\n",
       "</style>\n",
       "<table border=\"1\" class=\"dataframe\">\n",
       "  <thead>\n",
       "    <tr style=\"text-align: right;\">\n",
       "      <th></th>\n",
       "      <th>CompPrice</th>\n",
       "      <th>Income</th>\n",
       "      <th>Advertising</th>\n",
       "      <th>Population</th>\n",
       "      <th>Price</th>\n",
       "      <th>ShelveLoc</th>\n",
       "      <th>Age</th>\n",
       "      <th>Education</th>\n",
       "      <th>Urban</th>\n",
       "      <th>US</th>\n",
       "    </tr>\n",
       "  </thead>\n",
       "  <tbody>\n",
       "    <tr>\n",
       "      <th>count</th>\n",
       "      <td>400.000000</td>\n",
       "      <td>400.000000</td>\n",
       "      <td>400.000000</td>\n",
       "      <td>400.000000</td>\n",
       "      <td>400.000000</td>\n",
       "      <td>400.000000</td>\n",
       "      <td>400.000000</td>\n",
       "      <td>400.000000</td>\n",
       "      <td>400.000000</td>\n",
       "      <td>400.000000</td>\n",
       "    </tr>\n",
       "    <tr>\n",
       "      <th>mean</th>\n",
       "      <td>124.975000</td>\n",
       "      <td>68.657500</td>\n",
       "      <td>6.635000</td>\n",
       "      <td>264.840000</td>\n",
       "      <td>115.795000</td>\n",
       "      <td>1.307500</td>\n",
       "      <td>53.322500</td>\n",
       "      <td>13.900000</td>\n",
       "      <td>0.705000</td>\n",
       "      <td>0.645000</td>\n",
       "    </tr>\n",
       "    <tr>\n",
       "      <th>std</th>\n",
       "      <td>15.334512</td>\n",
       "      <td>27.986037</td>\n",
       "      <td>6.650364</td>\n",
       "      <td>147.376436</td>\n",
       "      <td>23.676664</td>\n",
       "      <td>0.833475</td>\n",
       "      <td>16.200297</td>\n",
       "      <td>2.620528</td>\n",
       "      <td>0.456614</td>\n",
       "      <td>0.479113</td>\n",
       "    </tr>\n",
       "    <tr>\n",
       "      <th>min</th>\n",
       "      <td>77.000000</td>\n",
       "      <td>21.000000</td>\n",
       "      <td>0.000000</td>\n",
       "      <td>10.000000</td>\n",
       "      <td>24.000000</td>\n",
       "      <td>0.000000</td>\n",
       "      <td>25.000000</td>\n",
       "      <td>10.000000</td>\n",
       "      <td>0.000000</td>\n",
       "      <td>0.000000</td>\n",
       "    </tr>\n",
       "    <tr>\n",
       "      <th>25%</th>\n",
       "      <td>115.000000</td>\n",
       "      <td>42.750000</td>\n",
       "      <td>0.000000</td>\n",
       "      <td>139.000000</td>\n",
       "      <td>100.000000</td>\n",
       "      <td>1.000000</td>\n",
       "      <td>39.750000</td>\n",
       "      <td>12.000000</td>\n",
       "      <td>0.000000</td>\n",
       "      <td>0.000000</td>\n",
       "    </tr>\n",
       "    <tr>\n",
       "      <th>50%</th>\n",
       "      <td>125.000000</td>\n",
       "      <td>69.000000</td>\n",
       "      <td>5.000000</td>\n",
       "      <td>272.000000</td>\n",
       "      <td>117.000000</td>\n",
       "      <td>2.000000</td>\n",
       "      <td>54.500000</td>\n",
       "      <td>14.000000</td>\n",
       "      <td>1.000000</td>\n",
       "      <td>1.000000</td>\n",
       "    </tr>\n",
       "    <tr>\n",
       "      <th>75%</th>\n",
       "      <td>135.000000</td>\n",
       "      <td>91.000000</td>\n",
       "      <td>12.000000</td>\n",
       "      <td>398.500000</td>\n",
       "      <td>131.000000</td>\n",
       "      <td>2.000000</td>\n",
       "      <td>66.000000</td>\n",
       "      <td>16.000000</td>\n",
       "      <td>1.000000</td>\n",
       "      <td>1.000000</td>\n",
       "    </tr>\n",
       "    <tr>\n",
       "      <th>max</th>\n",
       "      <td>175.000000</td>\n",
       "      <td>120.000000</td>\n",
       "      <td>29.000000</td>\n",
       "      <td>509.000000</td>\n",
       "      <td>191.000000</td>\n",
       "      <td>2.000000</td>\n",
       "      <td>80.000000</td>\n",
       "      <td>18.000000</td>\n",
       "      <td>1.000000</td>\n",
       "      <td>1.000000</td>\n",
       "    </tr>\n",
       "  </tbody>\n",
       "</table>\n",
       "</div>"
      ],
      "text/plain": [
       "        CompPrice      Income  Advertising  Population       Price  \\\n",
       "count  400.000000  400.000000   400.000000  400.000000  400.000000   \n",
       "mean   124.975000   68.657500     6.635000  264.840000  115.795000   \n",
       "std     15.334512   27.986037     6.650364  147.376436   23.676664   \n",
       "min     77.000000   21.000000     0.000000   10.000000   24.000000   \n",
       "25%    115.000000   42.750000     0.000000  139.000000  100.000000   \n",
       "50%    125.000000   69.000000     5.000000  272.000000  117.000000   \n",
       "75%    135.000000   91.000000    12.000000  398.500000  131.000000   \n",
       "max    175.000000  120.000000    29.000000  509.000000  191.000000   \n",
       "\n",
       "        ShelveLoc         Age   Education       Urban          US  \n",
       "count  400.000000  400.000000  400.000000  400.000000  400.000000  \n",
       "mean     1.307500   53.322500   13.900000    0.705000    0.645000  \n",
       "std      0.833475   16.200297    2.620528    0.456614    0.479113  \n",
       "min      0.000000   25.000000   10.000000    0.000000    0.000000  \n",
       "25%      1.000000   39.750000   12.000000    0.000000    0.000000  \n",
       "50%      2.000000   54.500000   14.000000    1.000000    1.000000  \n",
       "75%      2.000000   66.000000   16.000000    1.000000    1.000000  \n",
       "max      2.000000   80.000000   18.000000    1.000000    1.000000  "
      ]
     },
     "execution_count": 7,
     "metadata": {},
     "output_type": "execute_result"
    }
   ],
   "source": [
    "# Carseats Sales Prediction dataset\n",
    "df3 = pd.read_csv('Data/Carseats.csv').drop('Unnamed: 0', axis=1)\n",
    "\n",
    "df3['High'] = df3.Sales.map(lambda x: 1 if x>8 else 0)\n",
    "df3.ShelveLoc = pd.factorize(df3.ShelveLoc)[0]\n",
    "\n",
    "df3.Urban = df3.Urban.map({'No':0, 'Yes':1})\n",
    "df3.US = df3.US.map({'No':0, 'Yes':1})\n",
    "X = df3.drop(['Sales', 'High'], axis=1)\n",
    "y = df3.High\n",
    "\n",
    "X.describe()"
   ]
  },
  {
   "cell_type": "code",
   "execution_count": 5,
   "metadata": {},
   "outputs": [
    {
     "name": "stdout",
     "output_type": "stream",
     "text": [
      "[1 1 1 0 0 1 0 1 0 0 1 1 0 1 1 1 0 1 1 1 0 1 0 0 1 1 1 0 0 0 1 1 0 1 0 1 1\n",
      " 0 0 0 0 0 1 0 0 0 1 0 0 1 0 0 0 0 0 0 1 0 0 0 1 0 0 1 0 0 1 1 1 0 1 0 0 1\n",
      " 0 1 1 0 0 1 1 0 1 0 0 1 1 1 0 0 0 0 0 1 1 0 1 0 1 0 0 0 0 0 0 0 0 1 0 1 1\n",
      " 0 0 0 1 1 0 1 0 0 0 1 0 1 1 1 1 0 0 0 1 0 1 0 0 0 0 0 1 1 0 0 0 0 1 1 0 1\n",
      " 0 1 1 1 0 0 0 0 0 1 1 1 0 0 0 0 1 0 0 0 0 1 1 1 1 0 0 0 0 1 1 0 0 0 0 0 1\n",
      " 1 1 0 1 1 1 0 0 1 0 0 0 0 0 0 0 0 0 0 1 0 0 1 0 0 0 1 1 1 0 0 0 0 1 1 1 0\n",
      " 0 0 0 0 0 1 0 1 0 1 1 1 1 0 1 1 0 0 1 1 0 0 1 1 0 0 0 0 1 0 1 0 1 0 0 1 0\n",
      " 0 0 0 0 0 0 0 1 0 0 0 1 0 1 1 0 0 0 0 0 0 0 1 0 0 0 0 0 0 0 1 1 0 1 1 1 0\n",
      " 1 0 1 1 1 0 0 1 1 1 0 0 1 1 1 0 0 1 0 0 1 0 1 0 0 0 1 1 0 1 0 0 0 1 0 1 0\n",
      " 0 0 0 0 1 0 1 0 0 0 0 1 0 1 0 1 1 1 1 1 1 0 0 0 1 0 0 1 1 0 1 1 0 0 1 1 1\n",
      " 0 1 0 0 1 0 1 0 0 0 1 0 0 1 1 0 0 1 1 1 0 0 0 0 0 1 0 0 0 1]\n"
     ]
    }
   ],
   "source": [
    "print(y.values)"
   ]
  },
  {
   "cell_type": "markdown",
   "metadata": {},
   "source": [
    "### Task1: Grid search CV"
   ]
  },
  {
   "cell_type": "code",
   "execution_count": 230,
   "metadata": {},
   "outputs": [
    {
     "name": "stdout",
     "output_type": "stream",
     "text": [
      "              precision    recall  f1-score   support\n",
      "\n",
      "           0       0.78      0.90      0.84        69\n",
      "           1       0.83      0.67      0.74        51\n",
      "\n",
      "   micro avg       0.80      0.80      0.80       120\n",
      "   macro avg       0.81      0.78      0.79       120\n",
      "weighted avg       0.80      0.80      0.80       120\n",
      "\n",
      "[[62  7]\n",
      " [17 34]]\n"
     ]
    }
   ],
   "source": [
    "from sklearn.model_selection import train_test_split\n",
    "from sklearn.ensemble import RandomForestClassifier\n",
    "from sklearn.metrics import confusion_matrix, classification_report\n",
    "\n",
    "x_train, x_test, y_train, y_test = train_test_split(X, y, test_size=0.3, random_state=i)\n",
    "\n",
    "regr = RandomForestClassifier(n_estimators=262, max_depth=10, max_features=9, criterion='entropy')\n",
    "regr.fit(x_train, y_train)\n",
    "\n",
    "print(classification_report(y_test, regr.predict(x_test)))\n",
    "\n",
    "print(confusion_matrix(y_test, regr.predict(x_test)))\n",
    "    "
   ]
  },
  {
   "cell_type": "code",
   "execution_count": 219,
   "metadata": {},
   "outputs": [
    {
     "name": "stderr",
     "output_type": "stream",
     "text": [
      "C:\\Anaconda3\\envs\\ds2\\lib\\site-packages\\sklearn\\model_selection\\_search.py:841: DeprecationWarning: The default of the `iid` parameter will change from True to False in version 0.22 and will be removed in 0.24. This will change numeric results when test-set sizes are unequal.\n",
      "  DeprecationWarning)\n"
     ]
    },
    {
     "data": {
      "text/plain": [
       "{'mean_fit_time': array([0.00338058, 0.08054175, 0.00228167, 0.09711728, 0.00257955,\n",
       "        0.09444399, 0.00257907, 0.11991611]),\n",
       " 'std_fit_time': array([0.00073479, 0.00625366, 0.00024295, 0.00265469, 0.00019867,\n",
       "        0.01060261, 0.00019725, 0.01688485]),\n",
       " 'mean_score_time': array([0.00109119, 0.00704322, 0.00099173, 0.00714192, 0.0008925 ,\n",
       "        0.00842648, 0.00099292, 0.00794392]),\n",
       " 'std_score_time': array([1.99700427e-04, 1.98436034e-04, 2.43140197e-07, 2.43455122e-04,\n",
       "        1.98412027e-04, 1.03657120e-03, 2.71252873e-06, 1.50377694e-03]),\n",
       " 'param_criterion': masked_array(data=['gini', 'gini', 'gini', 'gini', 'entropy', 'entropy',\n",
       "                    'entropy', 'entropy'],\n",
       "              mask=[False, False, False, False, False, False, False, False],\n",
       "        fill_value='?',\n",
       "             dtype=object),\n",
       " 'param_max_features': masked_array(data=[1, 1, 5, 5, 1, 1, 5, 5],\n",
       "              mask=[False, False, False, False, False, False, False, False],\n",
       "        fill_value='?',\n",
       "             dtype=object),\n",
       " 'param_n_estimators': masked_array(data=[1, 100, 1, 100, 1, 100, 1, 100],\n",
       "              mask=[False, False, False, False, False, False, False, False],\n",
       "        fill_value='?',\n",
       "             dtype=object),\n",
       " 'params': [{'criterion': 'gini', 'max_features': 1, 'n_estimators': 1},\n",
       "  {'criterion': 'gini', 'max_features': 1, 'n_estimators': 100},\n",
       "  {'criterion': 'gini', 'max_features': 5, 'n_estimators': 1},\n",
       "  {'criterion': 'gini', 'max_features': 5, 'n_estimators': 100},\n",
       "  {'criterion': 'entropy', 'max_features': 1, 'n_estimators': 1},\n",
       "  {'criterion': 'entropy', 'max_features': 1, 'n_estimators': 100},\n",
       "  {'criterion': 'entropy', 'max_features': 5, 'n_estimators': 1},\n",
       "  {'criterion': 'entropy', 'max_features': 5, 'n_estimators': 100}],\n",
       " 'split0_test_score': array([0.59649123, 0.75438596, 0.68421053, 0.75438596, 0.54385965,\n",
       "        0.73684211, 0.66666667, 0.80701754]),\n",
       " 'split1_test_score': array([0.64285714, 0.78571429, 0.67857143, 0.83928571, 0.66071429,\n",
       "        0.78571429, 0.69642857, 0.82142857]),\n",
       " 'split2_test_score': array([0.69642857, 0.71428571, 0.71428571, 0.78571429, 0.60714286,\n",
       "        0.73214286, 0.71428571, 0.76785714]),\n",
       " 'split3_test_score': array([0.55357143, 0.78571429, 0.67857143, 0.83928571, 0.73214286,\n",
       "        0.80357143, 0.67857143, 0.83928571]),\n",
       " 'split4_test_score': array([0.63636364, 0.76363636, 0.69090909, 0.83636364, 0.65454545,\n",
       "        0.76363636, 0.74545455, 0.85454545]),\n",
       " 'mean_test_score': array([0.625     , 0.76071429, 0.68928571, 0.81071429, 0.63928571,\n",
       "        0.76428571, 0.7       , 0.81785714]),\n",
       " 'std_test_score': array([0.04791044, 0.02628597, 0.01329208, 0.0350238 , 0.06262945,\n",
       "        0.027578  , 0.02769907, 0.02971037]),\n",
       " 'rank_test_score': array([8, 4, 6, 2, 7, 3, 5, 1]),\n",
       " 'split0_train_score': array([0.8206278 , 1.        , 0.87892377, 1.        , 0.87892377,\n",
       "        1.        , 0.85650224, 1.        ]),\n",
       " 'split1_train_score': array([0.86160714, 1.        , 0.88839286, 1.        , 0.87053571,\n",
       "        1.        , 0.89732143, 1.        ]),\n",
       " 'split2_train_score': array([0.86160714, 1.        , 0.88839286, 1.        , 0.86160714,\n",
       "        1.        , 0.88839286, 1.        ]),\n",
       " 'split3_train_score': array([0.88392857, 1.        , 0.88839286, 1.        , 0.88392857,\n",
       "        1.        , 0.88839286, 1.        ]),\n",
       " 'split4_train_score': array([0.87111111, 1.        , 0.85777778, 1.        , 0.85777778,\n",
       "        1.        , 0.88888889, 1.        ]),\n",
       " 'mean_train_score': array([0.85977635, 1.        , 0.88037602, 1.        , 0.87055459,\n",
       "        1.        , 0.88389965, 1.        ]),\n",
       " 'std_train_score': array([0.02121848, 0.        , 0.01187938, 0.        , 0.0099218 ,\n",
       "        0.        , 0.01411405, 0.        ])}"
      ]
     },
     "execution_count": 219,
     "metadata": {},
     "output_type": "execute_result"
    }
   ],
   "source": [
    "from sklearn.model_selection import GridSearchCV\n",
    "\n",
    "rfc=RandomForestClassifier(random_state=42)\n",
    "\n",
    "parameters = { \n",
    "    'n_estimators': [1, 100],\n",
    "    'max_features' : [1,5]    \n",
    "}\n",
    "\n",
    "CV_rfc = GridSearchCV(estimator=rfc, param_grid=parameters, cv= 5)\n",
    "CV_rfc.fit(x_train, y_train)\n",
    "\n",
    "CV_rfc.cv_results_"
   ]
  },
  {
   "cell_type": "code",
   "execution_count": 176,
   "metadata": {},
   "outputs": [
    {
     "data": {
      "text/plain": [
       "{'criterion': 'entropy', 'max_features': 5, 'n_estimators': 100}"
      ]
     },
     "execution_count": 176,
     "metadata": {},
     "output_type": "execute_result"
    }
   ],
   "source": [
    "CV_rfc.best_params_"
   ]
  },
  {
   "cell_type": "code",
   "execution_count": 220,
   "metadata": {},
   "outputs": [
    {
     "data": {
      "text/plain": [
       "<mpl_toolkits.mplot3d.art3d.Path3DCollection at 0x1dc3ed5f978>"
      ]
     },
     "execution_count": 220,
     "metadata": {},
     "output_type": "execute_result"
    },
    {
     "data": {
      "image/png": "[encoded data removed]",
      "text/plain": [
       "<Figure size 432x288 with 1 Axes>"
      ]
     },
     "metadata": {
      "needs_background": "light"
     },
     "output_type": "display_data"
    }
   ],
   "source": [
    "# show 3D wireframe figure\n",
    "from mpl_toolkits.mplot3d import axes3d\n",
    "\n",
    "fig = plt.figure()\n",
    "ax = fig.add_subplot(111, projection='3d')\n",
    "\n",
    "params = CV_rfc.cv_results_['params']\n",
    "\n",
    "x_values = []\n",
    "y_values = []\n",
    "z_values = CV_rfc.cv_results_['mean_test_score'].reshape(-1,1)\n",
    "\n",
    "for i in range(0,len(params),1):\n",
    "    x_values.append(params[i]['n_estimators'])\n",
    "    y_values.append(params[i]['max_features'])\n",
    "\n",
    "\n",
    "#ax.plot_wireframe(x_values, y_values, z_values)\n",
    "ax.scatter(x_values, y_values, z_values)"
   ]
  },
  {
   "cell_type": "markdown",
   "metadata": {},
   "source": [
    "### Task2: Random search CV"
   ]
  },
  {
   "cell_type": "code",
   "execution_count": 228,
   "metadata": {},
   "outputs": [
    {
     "name": "stderr",
     "output_type": "stream",
     "text": [
      "C:\\Anaconda3\\envs\\ds2\\lib\\site-packages\\sklearn\\model_selection\\_search.py:841: DeprecationWarning: The default of the `iid` parameter will change from True to False in version 0.22 and will be removed in 0.24. This will change numeric results when test-set sizes are unequal.\n",
      "  DeprecationWarning)\n"
     ]
    },
    {
     "data": {
      "text/plain": [
       "{'mean_fit_time': array([0.09691596, 0.1682507 , 0.31792684, 0.21308098, 0.24999347,\n",
       "        0.35750823, 0.0072413 , 0.10148129, 0.29741549, 0.0645792 ]),\n",
       " 'std_fit_time': array([0.00421037, 0.00289509, 0.00633331, 0.00240106, 0.00774529,\n",
       "        0.00823862, 0.00024289, 0.00067303, 0.01386373, 0.00101212]),\n",
       " 'mean_score_time': array([0.0058537 , 0.01200423, 0.01666589, 0.01180491, 0.01577177,\n",
       "        0.01825347, 0.0012897 , 0.00694394, 0.01746044, 0.00505905]),\n",
       " 'std_score_time': array([0.00019899, 0.00048704, 0.0002431 , 0.00019841, 0.00048432,\n",
       "        0.00057958, 0.00024302, 0.00031364, 0.00048694, 0.00019858]),\n",
       " 'param_max_features': masked_array(data=[7, 3, 9, 8, 5, 9, 4, 5, 6, 3],\n",
       "              mask=[False, False, False, False, False, False, False, False,\n",
       "                    False, False],\n",
       "        fill_value='?',\n",
       "             dtype=object),\n",
       " 'param_n_estimators': masked_array(data=[80, 177, 262, 184, 244, 292, 6, 100, 267, 70],\n",
       "              mask=[False, False, False, False, False, False, False, False,\n",
       "                    False, False],\n",
       "        fill_value='?',\n",
       "             dtype=object),\n",
       " 'params': [{'max_features': 7, 'n_estimators': 80},\n",
       "  {'max_features': 3, 'n_estimators': 177},\n",
       "  {'max_features': 9, 'n_estimators': 262},\n",
       "  {'max_features': 8, 'n_estimators': 184},\n",
       "  {'max_features': 5, 'n_estimators': 244},\n",
       "  {'max_features': 9, 'n_estimators': 292},\n",
       "  {'max_features': 4, 'n_estimators': 6},\n",
       "  {'max_features': 5, 'n_estimators': 100},\n",
       "  {'max_features': 6, 'n_estimators': 267},\n",
       "  {'max_features': 3, 'n_estimators': 70}],\n",
       " 'split0_test_score': array([0.8245614 , 0.77192982, 0.78947368, 0.77192982, 0.78947368,\n",
       "        0.77192982, 0.80701754, 0.80701754, 0.77192982, 0.77192982]),\n",
       " 'split1_test_score': array([0.78571429, 0.78571429, 0.82142857, 0.83928571, 0.82142857,\n",
       "        0.82142857, 0.78571429, 0.82142857, 0.83928571, 0.80357143]),\n",
       " 'split2_test_score': array([0.76785714, 0.78571429, 0.78571429, 0.75      , 0.80357143,\n",
       "        0.76785714, 0.75      , 0.76785714, 0.78571429, 0.76785714]),\n",
       " 'split3_test_score': array([0.85714286, 0.875     , 0.85714286, 0.85714286, 0.83928571,\n",
       "        0.85714286, 0.78571429, 0.83928571, 0.83928571, 0.80357143]),\n",
       " 'split4_test_score': array([0.83636364, 0.83636364, 0.85454545, 0.87272727, 0.83636364,\n",
       "        0.87272727, 0.83636364, 0.85454545, 0.85454545, 0.81818182]),\n",
       " 'mean_test_score': array([0.81428571, 0.81071429, 0.82142857, 0.81785714, 0.81785714,\n",
       "        0.81785714, 0.79285714, 0.81785714, 0.81785714, 0.79285714]),\n",
       " 'std_test_score': array([0.03284777, 0.03888416, 0.03055327, 0.04839648, 0.01914368,\n",
       "        0.04280205, 0.02829094, 0.02971037, 0.03292571, 0.01964816]),\n",
       " 'rank_test_score': array([7, 8, 1, 2, 2, 2, 9, 2, 2, 9]),\n",
       " 'split0_train_score': array([1.        , 1.        , 1.        , 1.        , 1.        ,\n",
       "        1.        , 0.98206278, 1.        , 1.        , 1.        ]),\n",
       " 'split1_train_score': array([1.        , 1.        , 1.        , 1.        , 1.        ,\n",
       "        1.        , 0.97767857, 1.        , 1.        , 1.        ]),\n",
       " 'split2_train_score': array([1.        , 1.        , 1.        , 1.        , 1.        ,\n",
       "        1.        , 0.96428571, 1.        , 1.        , 1.        ]),\n",
       " 'split3_train_score': array([1.        , 1.        , 1.        , 1.        , 1.        ,\n",
       "        1.        , 0.97321429, 1.        , 1.        , 1.        ]),\n",
       " 'split4_train_score': array([1.        , 1.        , 1.        , 1.        , 1.        ,\n",
       "        1.        , 0.98666667, 1.        , 1.        , 1.        ]),\n",
       " 'mean_train_score': array([1.       , 1.       , 1.       , 1.       , 1.       , 1.       ,\n",
       "        0.9767816, 1.       , 1.       , 1.       ]),\n",
       " 'std_train_score': array([0.        , 0.        , 0.        , 0.        , 0.        ,\n",
       "        0.        , 0.00768483, 0.        , 0.        , 0.        ])}"
      ]
     },
     "execution_count": 228,
     "metadata": {},
     "output_type": "execute_result"
    }
   ],
   "source": [
    "from scipy import stats\n",
    "from sklearn.model_selection import RandomizedSearchCV\n",
    "from scipy.stats import randint as sp_randint\n",
    "\n",
    "rfc=RandomForestClassifier(random_state=42,criterion='entropy')\n",
    "\n",
    "parameters = { \n",
    "    'n_estimators': sp_randint(1, 300),\n",
    "    'max_features' : sp_randint(1, 11)\n",
    "}\n",
    "\n",
    "CV_rfc = RandomizedSearchCV(estimator=rfc, param_distributions=parameters, cv= 5)\n",
    "CV_rfc.fit(x_train, y_train)\n",
    "\n",
    "CV_rfc.cv_results_\n"
   ]
  },
  {
   "cell_type": "code",
   "execution_count": 229,
   "metadata": {},
   "outputs": [
    {
     "data": {
      "text/plain": [
       "{'max_features': 9, 'n_estimators': 262}"
      ]
     },
     "execution_count": 229,
     "metadata": {},
     "output_type": "execute_result"
    }
   ],
   "source": [
    "CV_rfc.best_params_"
   ]
  },
  {
   "cell_type": "code",
   "execution_count": 226,
   "metadata": {},
   "outputs": [
    {
     "data": {
      "text/plain": [
       "<mpl_toolkits.mplot3d.art3d.Path3DCollection at 0x1dc3e465080>"
      ]
     },
     "execution_count": 226,
     "metadata": {},
     "output_type": "execute_result"
    },
    {
     "data": {
      "image/png": "[encoded data removed]",
      "text/plain": [
       "<Figure size 432x288 with 1 Axes>"
      ]
     },
     "metadata": {
      "needs_background": "light"
     },
     "output_type": "display_data"
    }
   ],
   "source": [
    "from mpl_toolkits.mplot3d import axes3d\n",
    "\n",
    "fig = plt.figure()\n",
    "ax = fig.add_subplot(111, projection='3d')\n",
    "\n",
    "params = CV_rfc.cv_results_['params']\n",
    "\n",
    "x_values = []\n",
    "y_values = []\n",
    "z_values = CV_rfc.cv_results_['mean_test_score'].reshape(-1,1)\n",
    "\n",
    "for i in range(0,len(params),1):\n",
    "    x_values.append(params[i]['n_estimators'])\n",
    "    y_values.append(params[i]['max_features'])\n",
    "\n",
    "\n",
    "ax.scatter(x_values, y_values, z_values)"
   ]
  },
  {
   "cell_type": "markdown",
   "metadata": {},
   "source": [
    "### (Optional) Task3: CVs with SVM"
   ]
  },
  {
   "cell_type": "code",
   "execution_count": 291,
   "metadata": {},
   "outputs": [
    {
     "name": "stdout",
     "output_type": "stream",
     "text": [
      "0.85\n"
     ]
    }
   ],
   "source": [
    "from sklearn.svm import SVC\n",
    "# Generating test data for avoiding heavy computation\n",
    "np.random.seed(8)\n",
    "X = np.random.randn(200,2)\n",
    "X[:100] = X[:100] +2\n",
    "X[101:150] = X[101:150] -2\n",
    "y = np.concatenate([np.repeat(-1, 150), np.repeat(1,50)])\n",
    "\n",
    "X_train, X_test, y_train, y_test = train_test_split(X, y, test_size=0.5, random_state=2)\n",
    "\n",
    "clf = SVC(C=2, gamma='auto', tol=0.001)\n",
    "clf.fit(X_train, y_train) \n",
    "print(clf.score(X_test,y_test))\n",
    "\n",
    "# plt.scatter(X[:,0], X[:,1], s=70, c=y, cmap=plt.cm.Paired)\n",
    "# plt.xlabel('X1')\n",
    "# plt.ylabel('X2');"
   ]
  },
  {
   "cell_type": "code",
   "execution_count": null,
   "metadata": {},
   "outputs": [],
   "source": [
    "# Grid search CV here"
   ]
  },
  {
   "cell_type": "code",
   "execution_count": 290,
   "metadata": {},
   "outputs": [
    {
     "name": "stderr",
     "output_type": "stream",
     "text": [
      "C:\\Anaconda3\\envs\\ds2\\lib\\site-packages\\sklearn\\model_selection\\_search.py:841: DeprecationWarning: The default of the `iid` parameter will change from True to False in version 0.22 and will be removed in 0.24. This will change numeric results when test-set sizes are unequal.\n",
      "  DeprecationWarning)\n"
     ]
    },
    {
     "data": {
      "text/plain": [
       "{'C': 1, 'tol': 0.0010065932258135188}"
      ]
     },
     "execution_count": 290,
     "metadata": {},
     "output_type": "execute_result"
    }
   ],
   "source": [
    "# Randomized search CV here\n",
    "from scipy import stats\n",
    "from sklearn.model_selection import RandomizedSearchCV\n",
    "from scipy.stats import randint as sp_randint, uniform\n",
    "\n",
    "rfc=SVC(gamma='auto',kernel='rbf')\n",
    "\n",
    "parameters = { \n",
    "    'C': sp_randint(1, 10),\n",
    "    'tol' : uniform(1e-3, 1e-5)\n",
    "    #'kernel' : ('linear','poly','rbf','sigmoid','precomputed')\n",
    "}\n",
    "\n",
    "CV_rfc = RandomizedSearchCV(estimator=rfc, param_distributions=parameters, cv= 5)\n",
    "CV_rfc.fit(X_train, y_train)\n",
    "\n",
    "CV_rfc.cv_results_\n",
    "CV_rfc.best_params_\n",
    "#CV_rfc.best_score_"
   ]
  },
  {
   "cell_type": "markdown",
   "metadata": {},
   "source": [
    "## Bayesian optimization (with TPE)\n",
    "\n",
    "* The first time you install the *hyperopt* package with **pip** as following (**Just once!**):\n",
    "```\n",
    "(your env) prompt> pip install hyperopt\n",
    "```"
   ]
  },
  {
   "cell_type": "code",
   "execution_count": 231,
   "metadata": {},
   "outputs": [],
   "source": [
    "import hyperopt\n",
    "from hyperopt import hp\n",
    "from hyperopt import fmin, tpe, rand"
   ]
  },
  {
   "cell_type": "code",
   "execution_count": 232,
   "metadata": {},
   "outputs": [],
   "source": [
    "# define an objective function\n",
    "def objective(args):\n",
    "    case, val = args\n",
    "    if case == 'case 1':\n",
    "        return val\n",
    "    else:\n",
    "        return val ** 2"
   ]
  },
  {
   "cell_type": "code",
   "execution_count": 233,
   "metadata": {},
   "outputs": [],
   "source": [
    "# define a search space\n",
    "space = hp.choice('a',\n",
    "    [\n",
    "        ('case 1', 1 + hp.lognormal('c1', 0, 1)),\n",
    "        ('case 2', hp.uniform('c2', -10, 10))\n",
    "    ])"
   ]
  },
  {
   "cell_type": "code",
   "execution_count": 245,
   "metadata": {},
   "outputs": [
    {
     "name": "stdout",
     "output_type": "stream",
     "text": [
      "best x, y:('case 2', -0.046925349976145725)\n"
     ]
    }
   ],
   "source": [
    "# minimize the objective over the space\n",
    "hpo_algo = rand.suggest #tpe.suggest\n",
    "best = fmin(objective, space, algo=hpo_algo, max_evals=100)\n",
    "print (\"best x, y:{}\".format(hyperopt.space_eval(space, best)))"
   ]
  },
  {
   "cell_type": "markdown",
   "metadata": {},
   "source": [
    "If you see the result (the values may be different at each trial), installation is complete successfully. \n",
    "\n",
    "Before you start to HPO, kindly refer to the [manual](http://hyperopt.github.io/hyperopt/)"
   ]
  }
 ],
 "metadata": {
  "anaconda-cloud": {},
  "kernelspec": {
   "display_name": "Python 3",
   "language": "python",
   "name": "python3"
  },
  "language_info": {
   "codemirror_mode": {
    "name": "ipython",
    "version": 3
   },
   "file_extension": ".py",
   "mimetype": "text/x-python",
   "name": "python",
   "nbconvert_exporter": "python",
   "pygments_lexer": "ipython3",
   "version": "3.6.6"
  }
 },
 "nbformat": 4,
 "nbformat_minor": 2
}
